{
 "cells": [
  {
   "cell_type": "markdown",
   "id": "ea6f4d78",
   "metadata": {},
   "source": [
    "### Aligned Allocator [&#9997;](../edit/test/aligned_allocator.py)"
   ]
  },
  {
   "cell_type": "code",
   "execution_count": null,
   "id": "648f802e",
   "metadata": {},
   "outputs": [],
   "source": [
    "%%python\n",
    "from test import aligned_allocator\n",
    "\n",
    "import numpy as np\n",
    "\n",
    "with aligned_allocator:\n",
    "    np.core.test()"
   ]
  },
  {
   "cell_type": "markdown",
   "id": "b77b1ae8",
   "metadata": {},
   "source": [
    "### Debug Allocator [&#9997;](../edit/test/debug_allocator.py)"
   ]
  },
  {
   "cell_type": "code",
   "execution_count": null,
   "id": "eddf3002",
   "metadata": {},
   "outputs": [],
   "source": [
    "%%python\n",
    "from test import debug_allocator\n",
    "\n",
    "import numpy as np\n",
    "\n",
    "with debug_allocator:\n",
    "    a = np.arange(15).reshape((3, 5))\n",
    "\n",
    "assert debug_allocator.handles(a)\n",
    "\n",
    "b = np.array([6, 7, 8])\n",
    "\n",
    "assert not debug_allocator.handles(b)"
   ]
  },
  {
   "cell_type": "markdown",
   "id": "e27dfe1d",
   "metadata": {},
   "source": [
    "### Null Allocator [&#9997;](../edit/test/null_allocator.py)"
   ]
  },
  {
   "cell_type": "code",
   "execution_count": null,
   "id": "150c4317",
   "metadata": {},
   "outputs": [],
   "source": [
    "%%python\n",
    "from test import null_allocator\n",
    "\n",
    "import numpy as np\n",
    "\n",
    "with np.testing.assert_raises(MemoryError):\n",
    "    with null_allocator:\n",
    "        np.ndarray(())"
   ]
  }
 ],
 "metadata": {
  "kernelspec": {
   "display_name": "Python 3",
   "language": "python",
   "name": "python3"
  }
 },
 "nbformat": 4,
 "nbformat_minor": 5
}
